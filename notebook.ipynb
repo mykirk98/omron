{
 "cells": [
  {
   "cell_type": "code",
   "execution_count": 16,
   "metadata": {},
   "outputs": [
    {
     "name": "stdout",
     "output_type": "stream",
     "text": [
      "{'TRIGGER_SELECTOR': 'TriggerSelector', 'TRIGGER_SELECTOR_FRAME_START': 'FrameStart', 'TRIGGER_SELECTOR_EXPOSURE_START': 'ExposureStart', 'TRIGGER_MODE': 'TriggerMode', 'TRIGGER_MODE_ON': 'On', 'TRIGGER_MODE_OFF': 'Off', 'TRIGGER_SOURCE': 'TriggerSource', 'TRIGGER_SOURCE_SOFTWARE': 'Software', 'TRIGGER_SOFTWARE': 'TriggerSoftware'}\n",
      "<class 'dict'>\n"
     ]
    }
   ],
   "source": [
    "import yaml\n",
    "\n",
    "# YAML 파일 경로\n",
    "file_path = r'C:/Users/mykir/Work/omron/nodemaps/node_values.yaml'\n",
    "\n",
    "# YAML 파일 읽기\n",
    "with open(file_path, 'r', encoding='utf-8') as file:\n",
    "  data = yaml.safe_load(file)\n",
    "\n",
    "# 읽은 데이터 출력\n",
    "print(data)\n",
    "print((type(data)))"
   ]
  },
  {
   "cell_type": "code",
   "execution_count": 5,
   "metadata": {},
   "outputs": [],
   "source": [
    "from nodemaps.read_yaml import read_yaml\n",
    "\n",
    "file_path = r'./nodemaps/action.yaml'\n",
    "\n",
    "actions = read_yaml(file_path)"
   ]
  },
  {
   "cell_type": "code",
   "execution_count": 8,
   "metadata": {},
   "outputs": [
    {
     "name": "stdout",
     "output_type": "stream",
     "text": [
      "0 1 2 3\n",
      "0 1 2\n",
      "1 2 3\n",
      "2 3\n",
      "1 2\n",
      "0 1 2 3\n",
      "0 1 2 3\n",
      "1 2 3\n",
      "0 1 2 3\n",
      "0 2 3\n",
      "0 1 2 3\n",
      "0 1 3\n",
      "0 1 2 3\n"
     ]
    }
   ],
   "source": [
    "for i in actions:\n",
    "    print(actions[i])"
   ]
  },
  {
   "cell_type": "code",
   "execution_count": 4,
   "metadata": {},
   "outputs": [
    {
     "name": "stdout",
     "output_type": "stream",
     "text": [
      "['0', '4', '3']\n",
      "<class 'list'>\n",
      "3\n"
     ]
    }
   ],
   "source": [
    "selection = '0 4 3'\n",
    "print(selection.split())\n",
    "print(type(selection.split()))\n",
    "print(len(selection.split()))"
   ]
  }
 ],
 "metadata": {
  "kernelspec": {
   "display_name": "sentech",
   "language": "python",
   "name": "python3"
  },
  "language_info": {
   "codemirror_mode": {
    "name": "ipython",
    "version": 3
   },
   "file_extension": ".py",
   "mimetype": "text/x-python",
   "name": "python",
   "nbconvert_exporter": "python",
   "pygments_lexer": "ipython3",
   "version": "3.10.16"
  }
 },
 "nbformat": 4,
 "nbformat_minor": 2
}
